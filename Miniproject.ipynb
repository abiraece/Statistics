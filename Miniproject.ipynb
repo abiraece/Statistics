{
 "cells": [
  {
   "cell_type": "code",
   "execution_count": 1,
   "metadata": {},
   "outputs": [],
   "source": [
    "import numpy as np\n",
    "import pandas as pd\n",
    "import matplotlib.pyplot as plt\n",
    "import seaborn as sns\n",
    "from scipy.stats import ttest_1samp, ttest_ind, mannwhitneyu,shapiro,wilcoxon,ttest_rel\n",
    "from statsmodels.stats.power import ttest_power"
   ]
  },
  {
   "cell_type": "markdown",
   "metadata": {},
   "source": [
    "1. You were recently hired as a business analyst in a top sports company. The senior management team has asked you to come up \n",
    "with metrics with which they can gauge which team will win the upcoming La Liga cup (Football tournament). \n",
    "The given data set contains information on all the teams that have so far participated in all the past tournaments. \n",
    "It has data about how many goals each team scored, conceded; how many times they came within the first 6 positions, \n",
    "how many seasons they have qualified, their best position in the past, etc. You are required to do the following:\n",
    "\n",
    "Before doing any analysis it would be a good idea to check for any hypens or other symbols the data set and \n",
    "make appropriate replacements to make sure you can perform arithmetic operations on the data. \n",
    "Prepare a short report to answer the following questions:\n"
   ]
  },
  {
   "cell_type": "code",
   "execution_count": 2,
   "metadata": {},
   "outputs": [
    {
     "data": {
      "text/html": [
       "<div>\n",
       "<style scoped>\n",
       "    .dataframe tbody tr th:only-of-type {\n",
       "        vertical-align: middle;\n",
       "    }\n",
       "\n",
       "    .dataframe tbody tr th {\n",
       "        vertical-align: top;\n",
       "    }\n",
       "\n",
       "    .dataframe thead th {\n",
       "        text-align: right;\n",
       "    }\n",
       "</style>\n",
       "<table border=\"1\" class=\"dataframe\">\n",
       "  <thead>\n",
       "    <tr style=\"text-align: right;\">\n",
       "      <th></th>\n",
       "      <th>Pos</th>\n",
       "      <th>Team</th>\n",
       "      <th>Seasons</th>\n",
       "      <th>Points</th>\n",
       "      <th>GamesPlayed</th>\n",
       "      <th>GamesWon</th>\n",
       "      <th>GamesDrawn</th>\n",
       "      <th>GamesLost</th>\n",
       "      <th>GoalsFor</th>\n",
       "      <th>GoalsAgainst</th>\n",
       "      <th>Champion</th>\n",
       "      <th>Runner-up</th>\n",
       "      <th>Third</th>\n",
       "      <th>Fourth</th>\n",
       "      <th>Fifth</th>\n",
       "      <th>Sixth</th>\n",
       "      <th>T</th>\n",
       "      <th>Debut</th>\n",
       "      <th>Since/LastApp</th>\n",
       "      <th>BestPosition</th>\n",
       "    </tr>\n",
       "  </thead>\n",
       "  <tbody>\n",
       "    <tr>\n",
       "      <td>0</td>\n",
       "      <td>1</td>\n",
       "      <td>Real Madrid</td>\n",
       "      <td>86</td>\n",
       "      <td>4385</td>\n",
       "      <td>2762</td>\n",
       "      <td>1647</td>\n",
       "      <td>552</td>\n",
       "      <td>563</td>\n",
       "      <td>5947</td>\n",
       "      <td>3140</td>\n",
       "      <td>33</td>\n",
       "      <td>23</td>\n",
       "      <td>8</td>\n",
       "      <td>8</td>\n",
       "      <td>3</td>\n",
       "      <td>4</td>\n",
       "      <td>79</td>\n",
       "      <td>1929</td>\n",
       "      <td>1929</td>\n",
       "      <td>1</td>\n",
       "    </tr>\n",
       "    <tr>\n",
       "      <td>1</td>\n",
       "      <td>2</td>\n",
       "      <td>Barcelona</td>\n",
       "      <td>86</td>\n",
       "      <td>4262</td>\n",
       "      <td>2762</td>\n",
       "      <td>1581</td>\n",
       "      <td>573</td>\n",
       "      <td>608</td>\n",
       "      <td>5900</td>\n",
       "      <td>3114</td>\n",
       "      <td>25</td>\n",
       "      <td>25</td>\n",
       "      <td>12</td>\n",
       "      <td>12</td>\n",
       "      <td>4</td>\n",
       "      <td>6</td>\n",
       "      <td>83</td>\n",
       "      <td>1929</td>\n",
       "      <td>1929</td>\n",
       "      <td>1</td>\n",
       "    </tr>\n",
       "    <tr>\n",
       "      <td>2</td>\n",
       "      <td>3</td>\n",
       "      <td>Atletico Madrid</td>\n",
       "      <td>80</td>\n",
       "      <td>3442</td>\n",
       "      <td>2614</td>\n",
       "      <td>1241</td>\n",
       "      <td>598</td>\n",
       "      <td>775</td>\n",
       "      <td>4534</td>\n",
       "      <td>3309</td>\n",
       "      <td>10</td>\n",
       "      <td>8</td>\n",
       "      <td>16</td>\n",
       "      <td>9</td>\n",
       "      <td>7</td>\n",
       "      <td>6</td>\n",
       "      <td>56</td>\n",
       "      <td>1929</td>\n",
       "      <td>2002-03</td>\n",
       "      <td>1</td>\n",
       "    </tr>\n",
       "    <tr>\n",
       "      <td>3</td>\n",
       "      <td>4</td>\n",
       "      <td>Valencia</td>\n",
       "      <td>82</td>\n",
       "      <td>3386</td>\n",
       "      <td>2664</td>\n",
       "      <td>1187</td>\n",
       "      <td>616</td>\n",
       "      <td>861</td>\n",
       "      <td>4398</td>\n",
       "      <td>3469</td>\n",
       "      <td>6</td>\n",
       "      <td>6</td>\n",
       "      <td>10</td>\n",
       "      <td>11</td>\n",
       "      <td>10</td>\n",
       "      <td>7</td>\n",
       "      <td>50</td>\n",
       "      <td>1931-32</td>\n",
       "      <td>1987-88</td>\n",
       "      <td>1</td>\n",
       "    </tr>\n",
       "    <tr>\n",
       "      <td>4</td>\n",
       "      <td>5</td>\n",
       "      <td>Athletic Bilbao</td>\n",
       "      <td>86</td>\n",
       "      <td>3368</td>\n",
       "      <td>2762</td>\n",
       "      <td>1209</td>\n",
       "      <td>633</td>\n",
       "      <td>920</td>\n",
       "      <td>4631</td>\n",
       "      <td>3700</td>\n",
       "      <td>8</td>\n",
       "      <td>7</td>\n",
       "      <td>10</td>\n",
       "      <td>5</td>\n",
       "      <td>8</td>\n",
       "      <td>10</td>\n",
       "      <td>49</td>\n",
       "      <td>1929</td>\n",
       "      <td>1929</td>\n",
       "      <td>1</td>\n",
       "    </tr>\n",
       "  </tbody>\n",
       "</table>\n",
       "</div>"
      ],
      "text/plain": [
       "   Pos             Team  Seasons Points GamesPlayed GamesWon GamesDrawn  \\\n",
       "0    1      Real Madrid       86   4385        2762     1647        552   \n",
       "1    2        Barcelona       86   4262        2762     1581        573   \n",
       "2    3  Atletico Madrid       80   3442        2614     1241        598   \n",
       "3    4         Valencia       82   3386        2664     1187        616   \n",
       "4    5  Athletic Bilbao       86   3368        2762     1209        633   \n",
       "\n",
       "  GamesLost GoalsFor GoalsAgainst Champion Runner-up Third Fourth Fifth Sixth  \\\n",
       "0       563     5947         3140       33        23     8      8     3     4   \n",
       "1       608     5900         3114       25        25    12     12     4     6   \n",
       "2       775     4534         3309       10         8    16      9     7     6   \n",
       "3       861     4398         3469        6         6    10     11    10     7   \n",
       "4       920     4631         3700        8         7    10      5     8    10   \n",
       "\n",
       "    T    Debut Since/LastApp  BestPosition  \n",
       "0  79     1929          1929             1  \n",
       "1  83     1929          1929             1  \n",
       "2  56     1929       2002-03             1  \n",
       "3  50  1931-32       1987-88             1  \n",
       "4  49     1929          1929             1  "
      ]
     },
     "execution_count": 2,
     "metadata": {},
     "output_type": "execute_result"
    }
   ],
   "source": [
    "cup = pd.read_csv('Laliga.csv',header=1)\n",
    "cup.head()"
   ]
  },
  {
   "cell_type": "code",
   "execution_count": 3,
   "metadata": {},
   "outputs": [],
   "source": [
    "cup['Debut']=cup['Debut'].str.slice(0,4).astype(int)"
   ]
  },
  {
   "cell_type": "code",
   "execution_count": 4,
   "metadata": {},
   "outputs": [],
   "source": [
    "cup['Points'] = cup['Points'].str.replace('-','0').astype(int)"
   ]
  },
  {
   "cell_type": "code",
   "execution_count": 5,
   "metadata": {},
   "outputs": [],
   "source": [
    "cup['GamesPlayed'] = cup['GamesPlayed'].str.replace('-','0').astype(int)"
   ]
  },
  {
   "cell_type": "code",
   "execution_count": 6,
   "metadata": {},
   "outputs": [],
   "source": [
    "cup['GamesWon'] = cup['GamesWon'].str.replace('-','0').astype(int)"
   ]
  },
  {
   "cell_type": "code",
   "execution_count": 7,
   "metadata": {},
   "outputs": [],
   "source": [
    "cup['GamesDrawn'] = cup['GamesDrawn'].str.replace('-','0').astype(int)"
   ]
  },
  {
   "cell_type": "code",
   "execution_count": 8,
   "metadata": {},
   "outputs": [],
   "source": [
    "cup['GamesLost'] = cup['GamesLost'].str.replace('-','0').astype(int)"
   ]
  },
  {
   "cell_type": "code",
   "execution_count": 9,
   "metadata": {},
   "outputs": [],
   "source": [
    "cup['GoalsFor'] = cup['GoalsFor'].str.replace('-','0').astype(int)"
   ]
  },
  {
   "cell_type": "code",
   "execution_count": 10,
   "metadata": {},
   "outputs": [],
   "source": [
    "cup['GoalsAgainst'] = cup['GoalsAgainst'].str.replace('-','0').astype(int)"
   ]
  },
  {
   "cell_type": "code",
   "execution_count": 11,
   "metadata": {},
   "outputs": [],
   "source": [
    "cup['Champion'] = cup['Champion'].str.replace('-','0').astype(int)"
   ]
  },
  {
   "cell_type": "code",
   "execution_count": 12,
   "metadata": {},
   "outputs": [],
   "source": [
    "cup['Runner-up'] = cup['Runner-up'].str.replace('-','0').astype(int)"
   ]
  },
  {
   "cell_type": "code",
   "execution_count": 13,
   "metadata": {},
   "outputs": [],
   "source": [
    "cup['Third'] = cup['Third'].str.replace('-','0').astype(int)"
   ]
  },
  {
   "cell_type": "code",
   "execution_count": 14,
   "metadata": {},
   "outputs": [],
   "source": [
    "cup['Fourth'] = cup['Fourth'].str.replace('-','0').astype(int)"
   ]
  },
  {
   "cell_type": "code",
   "execution_count": 15,
   "metadata": {},
   "outputs": [],
   "source": [
    "cup['Fifth'] = cup['Fifth'].str.replace('-','0').astype(int)"
   ]
  },
  {
   "cell_type": "code",
   "execution_count": 16,
   "metadata": {},
   "outputs": [],
   "source": [
    "cup['Sixth'] = cup['Sixth'].str.replace('-','0').astype(int)"
   ]
  },
  {
   "cell_type": "code",
   "execution_count": 17,
   "metadata": {},
   "outputs": [],
   "source": [
    "cup['T'] = cup['T'].str.replace('-','0').astype(int)"
   ]
  },
  {
   "cell_type": "markdown",
   "metadata": {},
   "source": [
    "a. Which are the teams which started playing between 1930-1980?"
   ]
  },
  {
   "cell_type": "code",
   "execution_count": 66,
   "metadata": {},
   "outputs": [
    {
     "data": {
      "text/plain": [
       "3                Valencia\n",
       "5                 Sevilla\n",
       "8                Zaragoza\n",
       "9              Real Betis\n",
       "10    Deportivo La Coruna\n",
       "11             Celta Vigo\n",
       "12             Valladolid\n",
       "14         Sporting Gijon\n",
       "15                Osasuna\n",
       "16                 Malaga\n",
       "17                 Oviedo\n",
       "18               Mallorca\n",
       "19             Las Palmas\n",
       "21                Granada\n",
       "22         Rayo Vallecano\n",
       "23                  Elche\n",
       "25               Hercules\n",
       "26               Tenerife\n",
       "27                 Murcia\n",
       "28                 Alaves\n",
       "29                Levante\n",
       "30              Salamanca\n",
       "31               Sabadell\n",
       "32                  Cadiz\n",
       "34              Castellon\n",
       "37                Cordoba\n",
       "39             Recreativo\n",
       "40              Burgos CF\n",
       "41             Pontevedra\n",
       "46              Gimnastic\n",
       "49               Alcoyano\n",
       "50                   Jaen\n",
       "52             AD Almeria\n",
       "54                 Lleida\n",
       "57                 Condal\n",
       "58        Atletico Tetuan\n",
       "59       Cultural Leonesa\n",
       "Name: Team, dtype: object"
      ]
     },
     "execution_count": 66,
     "metadata": {},
     "output_type": "execute_result"
    }
   ],
   "source": [
    "debut_team = cup[cup['Debut'].between(1930,1980,inclusive = True)]\n",
    "debut_team['Team']"
   ]
  },
  {
   "cell_type": "markdown",
   "metadata": {},
   "source": [
    "b.Which are the top 5 teams in terms of points?"
   ]
  },
  {
   "cell_type": "code",
   "execution_count": 51,
   "metadata": {},
   "outputs": [
    {
     "data": {
      "text/plain": [
       "0        Real Madrid\n",
       "1          Barcelona\n",
       "2    Atletico Madrid\n",
       "3           Valencia\n",
       "4    Athletic Bilbao\n",
       "Name: Team, dtype: object"
      ]
     },
     "execution_count": 51,
     "metadata": {},
     "output_type": "execute_result"
    }
   ],
   "source": [
    "cup.sort_values(by='Points',ascending=False)['Team'].head(5)"
   ]
  },
  {
   "cell_type": "markdown",
   "metadata": {},
   "source": [
    "c.What is the distribution of the winning percentage for all teams? Which teams are in the top 5 in terms of winning percentage? (Winning percentage= (GamesWon / GamesPlayed)*100)"
   ]
  },
  {
   "cell_type": "code",
   "execution_count": 52,
   "metadata": {},
   "outputs": [
    {
     "data": {
      "text/plain": [
       "0        Real Madrid\n",
       "1          Barcelona\n",
       "2    Atletico Madrid\n",
       "3           Valencia\n",
       "4    Athletic Bilbao\n",
       "Name: Team, dtype: object"
      ]
     },
     "execution_count": 52,
     "metadata": {},
     "output_type": "execute_result"
    }
   ],
   "source": [
    "cup['Winning Percentage'] = cup['GamesWon']/cup['GamesPlayed']*100\n",
    "cup.sort_values(by='Winning Percentage',ascending=False)['Team'].head(5)"
   ]
  },
  {
   "cell_type": "markdown",
   "metadata": {},
   "source": [
    "d.\tIs there a significant difference in the winning percentage for teams which have attained a best position between 1-3 and those teams which have had a best position between 4-7."
   ]
  },
  {
   "cell_type": "code",
   "execution_count": null,
   "metadata": {},
   "outputs": [],
   "source": [
    "# Hypothesis:\n",
    "H0 : Winning Percentage for teams attained best position between 1-3 has no significant difference with Winning Percentage for teams attained best position between 4-7\n",
    "Ha : Winning Percentage for teams attained best position between 1-3 has significant difference with Winning Percentage for teams attained best position between 4-7    "
   ]
  },
  {
   "cell_type": "code",
   "execution_count": 63,
   "metadata": {},
   "outputs": [],
   "source": [
    "g_1 = pd.DataFrame(cup['Winning Percentage'][cup['BestPosition'].between(1,3,inclusive=True)])\n",
    "g1 = g_1.to_numpy()\n",
    "g_2 = pd.DataFrame(cup['Winning Percentage'][cup['BestPosition'].between(4,7,inclusive=True)])\n",
    "g2 = g_2.to_numpy()"
   ]
  },
  {
   "cell_type": "code",
   "execution_count": 64,
   "metadata": {},
   "outputs": [
    {
     "name": "stdout",
     "output_type": "stream",
     "text": [
      "shapiro test output is: (0.8252524733543396, 0.0035329433158040047)\n",
      "shapiro test output is: (0.9436671733856201, 0.2809881269931793)\n"
     ]
    }
   ],
   "source": [
    "# Shapiro test:\n",
    "print('shapiro test output is:',shapiro(g1))\n",
    "print('shapiro test output is:',shapiro(g2))\n",
    "\n",
    "# Pvalue > 0.05. Therefore proceeding with two unpaired parametric test"
   ]
  },
  {
   "cell_type": "code",
   "execution_count": 65,
   "metadata": {},
   "outputs": [
    {
     "data": {
      "text/plain": [
       "Ttest_indResult(statistic=array([4.99271534]), pvalue=array([1.53621019e-05]))"
      ]
     },
     "execution_count": 65,
     "metadata": {},
     "output_type": "execute_result"
    }
   ],
   "source": [
    "# Ttest:\n",
    "ttest_ind(g1,g2)"
   ]
  },
  {
   "cell_type": "code",
   "execution_count": null,
   "metadata": {},
   "outputs": [],
   "source": [
    "# Inference:\n",
    "Pvalue < 0.05. Therefore Ha ia accpected.\n",
    "Winning Percentage for teams attained best position between 1-3 has significant difference with Winning Percentage for teams attained best position between 4-7 "
   ]
  },
  {
   "cell_type": "markdown",
   "metadata": {},
   "source": [
    "2. A study was done to measure the blood pressure of 60 year old women with glaucoma. A random sample of 200 60-year old women with glaucoma was chosen. The mean of the systolic blood pressure in the sample was 140 mm Hg and the standard deviation was 25 mm Hg."
   ]
  },
  {
   "cell_type": "code",
   "execution_count": 28,
   "metadata": {},
   "outputs": [],
   "source": [
    "n = 200\n",
    "x_bar = 140\n",
    "std_de = 25"
   ]
  },
  {
   "cell_type": "markdown",
   "metadata": {},
   "source": [
    "a. Calculate the estimated standard error of the sample mean? What does the standard error indicate?"
   ]
  },
  {
   "cell_type": "code",
   "execution_count": 29,
   "metadata": {},
   "outputs": [
    {
     "data": {
      "text/plain": [
       "1.7677669529663687"
      ]
     },
     "execution_count": 29,
     "metadata": {},
     "output_type": "execute_result"
    }
   ],
   "source": [
    "SE = 25/np.sqrt(200)\n",
    "SE"
   ]
  },
  {
   "cell_type": "markdown",
   "metadata": {},
   "source": [
    "b.Estimate a 95% confidence interval for the true mean blood pressure for all 60-year old women with glaucoma."
   ]
  },
  {
   "cell_type": "code",
   "execution_count": 30,
   "metadata": {},
   "outputs": [
    {
     "name": "stdout",
     "output_type": "stream",
     "text": [
      "95% confidence interval for the true mean blood pressure for all 60-year old women with glaucoma: [136.5351767721859, 143.4648232278141]\n"
     ]
    }
   ],
   "source": [
    "print('95% confidence interval for the true mean blood pressure for all 60-year old women with glaucoma:',[x_bar-1.96*SE,x_bar+1.96*SE])"
   ]
  },
  {
   "cell_type": "markdown",
   "metadata": {},
   "source": [
    "c.Assume that instead of 200, a random sample of only 100 60-year old women with glaucoma was chosen. The sample mean and standard deviation estimates are the same as those in the original study. What is the estimated 95% confidence interval for the true mean blood pressure?"
   ]
  },
  {
   "cell_type": "code",
   "execution_count": 31,
   "metadata": {},
   "outputs": [
    {
     "name": "stdout",
     "output_type": "stream",
     "text": [
      "Standard Error of sample is: 2.5\n",
      "Estimated 95% confidence interval for the true mean blood pressure: [135.1, 144.9]\n"
     ]
    }
   ],
   "source": [
    "n = 100\n",
    "\n",
    "x_bar = 140\n",
    "std_de = 25\n",
    "\n",
    "SE = std_de/np.sqrt(n)\n",
    "print('Standard Error of sample is:',SE)\n",
    "\n",
    "# For 95% confidence interval is:\n",
    "print('Estimated 95% confidence interval for the true mean blood pressure:',[x_bar-1.96*SE,x_bar+1.96*SE])"
   ]
  },
  {
   "cell_type": "markdown",
   "metadata": {},
   "source": [
    "d.Which of the two above intervals are wider?"
   ]
  },
  {
   "cell_type": "code",
   "execution_count": null,
   "metadata": {},
   "outputs": [],
   "source": [
    "# 95% Confidence interval for 200 samples is :[136.5351767721859, 143.4648232278141]\n",
    "# 95% Confidence interval for 100 samples is :[91.00484611378388, 187.7067407384096]\n",
    "From the above result, we can conclude that, for 100 samples interval is more wider than 200 samples."
   ]
  },
  {
   "cell_type": "markdown",
   "metadata": {},
   "source": [
    "e.Explain in non-technical terms why the estimated standard error of a sample mean tends to decrease with an increase in sample size."
   ]
  },
  {
   "cell_type": "code",
   "execution_count": null,
   "metadata": {},
   "outputs": [],
   "source": [
    "While considering 200(entire) samples, Standard error is approximately 1.76. But while considering 100 samples,Standard error is 2.46.\n",
    "Because while considering 200 samples standard error is calculated for the entire population sample. so it will be very less\n",
    "rather than approximation."
   ]
  },
  {
   "cell_type": "markdown",
   "metadata": {},
   "source": [
    "3. Par Inc., is a major manufacturer of golf equipment. Management believes that Par’s market share could be increased with the introduction of a cut-resistant, longer-lasting golf ball. Therefore, the research group at Par has been investigating a new golf ball coating designed to resist cuts and provide a more durable ball. The tests with the coating have been promising.\n",
    "\n",
    "One of the researchers voiced concern about the effect of the new coating on driving distances. Par would like the new cut-resistant ball to offer driving distances comparable to those of the current-model golf ball. To compare the driving distances for the two balls, 40 balls of both the new and current models were subjected to distance tests. The testing was performed with a mechanical hitting machine so that any difference between the mean distances for the two models could be attributed to a difference in the design. The results of the tests, with distances measured to the nearest yard, are contained in   the data set “Golf”.\n"
   ]
  },
  {
   "cell_type": "code",
   "execution_count": 2,
   "metadata": {},
   "outputs": [],
   "source": [
    "golf = pd.read_csv('Golf.csv')"
   ]
  },
  {
   "cell_type": "code",
   "execution_count": 3,
   "metadata": {},
   "outputs": [],
   "source": [
    "g_c = pd.DataFrame(golf['Current'])\n",
    "g1 = g_c.to_numpy()\n",
    "g_n = pd.DataFrame(golf['New'])\n",
    "g2 = g_n.to_numpy()"
   ]
  },
  {
   "cell_type": "markdown",
   "metadata": {},
   "source": [
    "a.Formulate and present the rationale for a hypothesis test that Par could use to compare the driving distances of the current and new golf balls."
   ]
  },
  {
   "cell_type": "code",
   "execution_count": null,
   "metadata": {},
   "outputs": [],
   "source": [
    "# Hypothesis:\n",
    "H0 : Effect of new coating has no effect on driving distances\n",
    "Ha : Effect of new coating has effect on driving distances"
   ]
  },
  {
   "cell_type": "markdown",
   "metadata": {},
   "source": [
    "b.Analyze the data to provide the hypothesis testing conclusion. What is the p-value for your test? What is your recommendation for Par Inc.?"
   ]
  },
  {
   "cell_type": "code",
   "execution_count": 10,
   "metadata": {},
   "outputs": [
    {
     "name": "stdout",
     "output_type": "stream",
     "text": [
      "Shapiro test for Current Golf: (0.9707046747207642, 0.378787100315094)\n",
      "Shapiro test for New Golf: (0.9678263664245605, 0.3064655363559723)\n"
     ]
    }
   ],
   "source": [
    "# shapiro test:\n",
    "print('Shapiro test for Current Golf:',shapiro(g1))\n",
    "print('Shapiro test for New Golf:',shapiro(g2))\n",
    "\n",
    "# in the above both test pvalue > 0.05. Here considering one set of data with golf equipment\n",
    "# and coating on the same equipment measuring driving distances. Hence it is proceeding with paried parametric test."
   ]
  },
  {
   "cell_type": "code",
   "execution_count": 12,
   "metadata": {},
   "outputs": [
    {
     "data": {
      "text/plain": [
       "Ttest_relResult(statistic=array([1.27696998]), pvalue=array([0.20916362]))"
      ]
     },
     "execution_count": 12,
     "metadata": {},
     "output_type": "execute_result"
    }
   ],
   "source": [
    "#ttest:\n",
    "ttest_rel(g1,g2)\n",
    "\n",
    "# Inference:\n",
    "# Pvalue > 0.05. Hence H0 is accepted. Therefore,Effect of new coating has no effect on driving distances."
   ]
  },
  {
   "cell_type": "markdown",
   "metadata": {},
   "source": [
    "c.What is the 95% confidence interval for the population mean of each model, and what is the 95% confidence interval for the difference between the means of the two population?"
   ]
  },
  {
   "cell_type": "code",
   "execution_count": 4,
   "metadata": {},
   "outputs": [
    {
     "name": "stdout",
     "output_type": "stream",
     "text": [
      "Mean of Current Golf: 270.275\n",
      "Mean of New Golf: 267.5\n",
      "standard deviation of current golf: 8.752984838884595\n",
      "standard deviation of new golf: 9.896904462947894\n",
      "Number of samples in current golf: 40\n",
      "Number of samples in new golf: 40\n",
      "Standard Error of current golf: 1.3839684207898637\n",
      "Standard Error of New golf: 1.5648379944000428\n",
      "95% confidence interval for the population mean of Current golf model: [267.5624218952518, 272.98757810474814]\n",
      "95% confidence interval for the population mean of New golf model: [264.43291753097594, 270.56708246902406]\n"
     ]
    }
   ],
   "source": [
    "mean_g1 = np.mean(g1)\n",
    "mean_g2 = np.mean(g2)\n",
    "std_g1 = np.std(g1,ddof=1)\n",
    "std_g2 = np.std(g2,ddof=1)\n",
    "n1 = len(g1)\n",
    "n2 = len(g2)\n",
    "\n",
    "print('Mean of Current Golf:',mean_g1)\n",
    "print('Mean of New Golf:',mean_g2)\n",
    "print('standard deviation of current golf:',std_g1)\n",
    "print('standard deviation of new golf:',std_g2)\n",
    "print('Number of samples in current golf:',n1)\n",
    "print('Number of samples in new golf:',n2)\n",
    "\n",
    "SE1 = std_g1/np.sqrt(n1)\n",
    "SE2 = std_g2/np.sqrt(n2)\n",
    "\n",
    "print('Standard Error of current golf:',SE1)\n",
    "print('Standard Error of New golf:',SE2)\n",
    "\n",
    "print('95% confidence interval for the population mean of Current golf model:',[mean_g1-1.96*SE1,mean_g1+1.96*SE1])\n",
    "print('95% confidence interval for the population mean of New golf model:',[mean_g2-1.96*SE2,mean_g2+1.96*SE2])\n"
   ]
  },
  {
   "cell_type": "code",
   "execution_count": 7,
   "metadata": {},
   "outputs": [
    {
     "name": "stdout",
     "output_type": "stream",
     "text": [
      "95% confidence interval for the difference between mean of population: [-1.3195176573259557, 6.86951765732591]\n"
     ]
    }
   ],
   "source": [
    "se1 = std_g1**2/n1\n",
    "se2 = std_g2**2/n2\n",
    "print('95% confidence interval for the difference between mean of population:',[(mean_g1-mean_g2)-1.96*(np.sqrt(se1+se2)),(mean_g1-mean_g2)+1.96*(np.sqrt(se1+se2))])"
   ]
  }
 ],
 "metadata": {
  "kernelspec": {
   "display_name": "Python 3",
   "language": "python",
   "name": "python3"
  },
  "language_info": {
   "codemirror_mode": {
    "name": "ipython",
    "version": 3
   },
   "file_extension": ".py",
   "mimetype": "text/x-python",
   "name": "python",
   "nbconvert_exporter": "python",
   "pygments_lexer": "ipython3",
   "version": "3.7.4"
  }
 },
 "nbformat": 4,
 "nbformat_minor": 2
}
